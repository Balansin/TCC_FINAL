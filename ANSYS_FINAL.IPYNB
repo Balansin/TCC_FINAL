{
 "cells": [
  {
   "cell_type": "code",
   "execution_count": 36,
   "metadata": {},
   "outputs": [
    {
     "name": "stdout",
     "output_type": "stream",
     "text": [
      "MAPDL launched successfully on port 50052\n"
     ]
    }
   ],
   "source": [
    "from ansys.mapdl.core import launch_mapdl\n",
    "import pandas as pd\n",
    "\n",
    "def launch_mapdl_on_available_port(starting_port=50052, max_attempts=5):\n",
    "    for i in range(max_attempts):\n",
    "        port = starting_port + i\n",
    "        try:\n",
    "            mapdl = launch_mapdl(port=port)\n",
    "            print(f\"MAPDL launched successfully on port {port}\")\n",
    "            return mapdl\n",
    "        except Exception as e:\n",
    "            print(f\"Failed to launch MAPDL on port {port}: {e}\")\n",
    "    raise RuntimeError(\"Could not launch MAPDL on any available port\")\n",
    "\n",
    "# Use a função para iniciar uma instância do MAPDL\n",
    "mapdl = launch_mapdl_on_available_port()"
   ]
  },
  {
   "cell_type": "code",
   "execution_count": 50,
   "metadata": {},
   "outputs": [
    {
     "data": {
      "text/plain": [
       "***** ROUTINE COMPLETED *****  CP =         3.219"
      ]
     },
     "execution_count": 50,
     "metadata": {},
     "output_type": "execute_result"
    }
   ],
   "source": [
    "mapdl.clear('NOSTART')\n",
    "mapdl.prep7()\n",
    "\n",
    "# Título\n",
    "mapdl.title('Análise de Estacas e Casca')\n",
    "\n",
    "# Definir o tipo de elemento (BEAM188) e suas propriedades\n",
    "mapdl.et(1, 'BEAM188')\n",
    "\n",
    "# Propriedades do material\n",
    "modulo_elasticidade = 0.85 * 5600 * (40 ** 0.5) * 1e6  # N/m²\n",
    "mapdl.mp('EX', 1, modulo_elasticidade)\n",
    "mapdl.mp('PRXY', 1, 0.2)  # Coeficiente de Poisson\n",
    "mapdl.mp('DENS', 1, 2500)  # Densidade\n",
    "\n",
    "# Propriedades da seção da viga\n",
    "mapdl.sectype(1, 'BEAM', 'CSOLID')\n",
    "mapdl.secoffset('CENT')\n",
    "mapdl.secdata(0.5)\n",
    "\n",
    "# Definir os pontos iniciais e finais das estacas\n",
    "x_iniciais = [0.5, 2.0, 4.0, 5.5, 0.5, 5.5, 0.5, 2.0, 4.0, 5.5]\n",
    "y_iniciais = [2.5, 2.5, 2.5, 2.5, 0.0, 0.0, -2.5, -2.5, -2.5, -2.5]\n",
    "z_iniciais = [0.0] * 10\n",
    "x_finais = [0.5, 2.0, 4.0, 5.5, 0.5, 5.5, 0.5, 2.0, 4.0, 5.5]\n",
    "y_finais = [2.5, 2.5, 2.5, 2.5, 0.0, 0.0, -2.5, -2.5, -2.5, -2.5]\n",
    "z_finais = [-20.0] * 10\n",
    "\n",
    "# Número de nós intermediários\n",
    "num_intermediate_nodes = 39\n",
    "\n",
    "# Adicionar nós\n",
    "node_id = 1\n",
    "for i in range(10):\n",
    "    x_inicial = x_iniciais[i]\n",
    "    y_inicial = y_iniciais[i]\n",
    "    z_inicial = z_iniciais[i]\n",
    "    \n",
    "    x_final = x_finais[i]\n",
    "    y_final = y_finais[i]\n",
    "    z_final = z_finais[i]\n",
    "    \n",
    "    mapdl.n(node_id, x_inicial, y_inicial, z_inicial)\n",
    "    node_id_final = node_id + num_intermediate_nodes + 1\n",
    "    mapdl.n(node_id_final, x_final, y_final, z_final)\n",
    "    \n",
    "    # Travar nós finais\n",
    "    mapdl.d(node_id_final, 'ALL', 0)\n",
    "    \n",
    "    # Preencher nós intermediários\n",
    "    mapdl.fill(node_id, node_id_final, num_intermediate_nodes)\n",
    "    \n",
    "    node_id = node_id_final + 1\n",
    "\n",
    "# Geração de elementos\n",
    "n_elemento = 1\n",
    "for i in range(10):\n",
    "    for j in range(1, num_intermediate_nodes + 2):\n",
    "        N_1 = j + (num_intermediate_nodes + 2) * (i)\n",
    "        N_2 = N_1 + 1\n",
    "        mapdl.en(n_elemento, N_1, N_2)\n",
    "        n_elemento += 1\n",
    "\n",
    "# Selecionar elementos tipo BEAM188\n",
    "mapdl.esel('S', 'TYPE', '', 1)\n",
    "\n",
    "# Contar elementos selecionados\n",
    "num_elem = mapdl.get('num_elem', 'ELEM', 0, 'COUNT')\n",
    "k = num_elem\n",
    "\n",
    "# Criar elemento de carga\n",
    "mapdl.n(1000, 3, 0, 0)\n",
    "mapdl.n(1001, 3, 0, 0.1)\n",
    "mapdl.en(k + 1, 1000, 1001)\n",
    "\n",
    "# Definir tipo de elemento SHELL181\n",
    "mapdl.et(2, 'SHELL181')\n",
    "mapdl.keyopt(2, 8, 2)  # Elastoplástico\n",
    "mapdl.keyopt(2, 3, 2)  # Precisão de tensões\n",
    "\n",
    "# Propriedades do material para SHELL181\n",
    "modulo_elasticidade_shell = 0.85 * 5600 * (20 ** 0.5) * 1e6\n",
    "mapdl.mp('EX', 2, modulo_elasticidade_shell)\n",
    "mapdl.mp('PRXY', 2, 0.2)\n",
    "mapdl.mp('DENS', 2, 2500)\n",
    "\n",
    "# Definir seção de casca\n",
    "mapdl.sectype(2, 'SHELL')\n",
    "mapdl.secdata(1.5)\n",
    "\n",
    "# Criar retângulo e malhar\n",
    "mapdl.rectng(0, 6, -3, 3)\n",
    "mapdl.esize(0.1)\n",
    "mapdl.amesh('ALL')\n",
    "\n",
    "# Selecionar elementos tipo SHELL181\n",
    "mapdl.esel('S', 'TYPE', '', 2)\n",
    "mapdl.emodif('ALL', 'SECNUM', 2)\n",
    "\n",
    "# Merge de nós\n",
    "mapdl.nsel('S', 'LOC', 'Z', 0, 1e5)\n",
    "mapdl.nummrg('NODE', 1e-5)\n",
    "mapdl.nsel('ALL')\n",
    "\n",
    "# Saída dos resultados\n",
    "mapdl.allsel('ALL')\n",
    "mapdl.nlist('ALL', '', '', 'XYZ', 'NODE', 'NODE', 'NODE')\n",
    "mapdl.elist('ALL', '', '', 0, 0)\n",
    "\n",
    "# Aplicar gravidade\n",
    "mapdl.acel(0, 0, -9.81)\n",
    "\n",
    "# Finalizar\n",
    "mapdl.finish() "
   ]
  },
  {
   "cell_type": "code",
   "execution_count": 49,
   "metadata": {},
   "outputs": [
    {
     "data": {
      "application/vnd.jupyter.widget-view+json": {
       "model_id": "94e10f91003e413f9bef6e419fed3844",
       "version_major": 2,
       "version_minor": 0
      },
      "text/plain": [
       "Widget(value='<iframe src=\"http://localhost:51165/index.html?ui=P_0x1c49e421910_0&reconnect=auto\" class=\"pyvis…"
      ]
     },
     "metadata": {},
     "output_type": "display_data"
    }
   ],
   "source": [
    "mapdl.eplot()"
   ]
  },
  {
   "cell_type": "code",
   "execution_count": 38,
   "metadata": {},
   "outputs": [
    {
     "data": {
      "text/plain": [
       "PERFORM A STATIC ANALYSIS\n",
       "  THIS WILL BE A NEW ANALYSIS"
      ]
     },
     "execution_count": 38,
     "metadata": {},
     "output_type": "execute_result"
    }
   ],
   "source": [
    "# Entrar no modo de solução\n",
    "mapdl.slashsolu()\n",
    "mapdl.antype(0)"
   ]
  },
  {
   "cell_type": "code",
   "execution_count": 43,
   "metadata": {},
   "outputs": [
    {
     "name": "stdout",
     "output_type": "stream",
     "text": [
      "1000000.0\n",
      "0.0\n",
      "707106.7811865476\n",
      "707106.7811865476\n",
      "6.123233995736767e-11\n",
      "1000000.0\n"
     ]
    },
    {
     "data": {
      "text/plain": [
       "FINISH SOLUTION PROCESSING\n",
       "\n",
       "\n",
       " ***** ROUTINE COMPLETED *****  CP =         2.609"
      ]
     },
     "execution_count": 43,
     "metadata": {},
     "output_type": "execute_result"
    }
   ],
   "source": [
    "import math\n",
    "# Definir a força aplicada e o número de load steps\n",
    "f = 1000000  # Força de 1 milhão de N\n",
    "\n",
    "# Loop para aplicar as diferentes condições de carga\n",
    "for i in range(1, 4):\n",
    "    # Calcular o ângulo em radianos\n",
    "    Rad = (i-1)*45*math.pi/180\n",
    "\n",
    "    # Calcular as componentes da força horizontal\n",
    "    FX = math.cos(Rad)*f\n",
    "    FY = math.sin(Rad)*f\n",
    "\n",
    "    print(FX)\n",
    "    print(FY)\n",
    "\n",
    "    # Selecionar todos os elementos\n",
    "    mapdl.allsel('ALL')\n",
    "\n",
    "    # Aplicar as forças horizontais no nó 1001\n",
    "    mapdl.f(1001, 'FX', FX)\n",
    "    mapdl.f(1001, 'FY', FY)\n",
    "\n",
    "    # Resolver o modelo\n",
    "    mapdl.solve()\n",
    "\n",
    "    # Salvar os resultados da solução\n",
    "    mapdl.save(f'load_step_{i}')\n",
    "\n",
    "# Finalizar\n",
    "mapdl.finish()"
   ]
  },
  {
   "cell_type": "code",
   "execution_count": 44,
   "metadata": {},
   "outputs": [
    {
     "data": {
      "text/plain": [
       "STORE AREA     FROM ITEM=SMIS COMP=  13  FOR ALL SELECTED ELEMENTS"
      ]
     },
     "execution_count": 44,
     "metadata": {},
     "output_type": "execute_result"
    }
   ],
   "source": [
    "# Entrar no modo de pós-processamento\n",
    "mapdl.post1()\n",
    "\n",
    "\n",
    "# Definir os Load Cases para N = 3\n",
    "for i in range(1, 4):\n",
    "    mapdl.lcdef(i, i, 1)  # Define o Load Case i para o Load Step i \n",
    "\n",
    "# Carregar o primeiro Load Case\n",
    "mapdl.lcase(1)\n",
    "\n",
    "# Comparar o Load Case 1 com os demais e armazenar os resultados (máximos)\n",
    "for R in range(2, 4): \n",
    "    mapdl.lcoper('MAX', R)  # Compara o Load Case na memória com os próximos\n",
    "    mapdl.lcwrite(50 + R)   # Escreve o resultado em um arquivo\n",
    "\n",
    "# Carregar o resultado do último load case comparado\n",
    "mapdl.lcase(53)\n",
    "\n",
    "# Gerar ETABLE para momentos fletores My e Mz dos elementos selecionados (valores máximos)\n",
    "mapdl.etable('Fx_MAX', 'SMISC', 1, 'MAX')  # Força Axial máxima\n",
    "mapdl.etable('My_MAX', 'SMISC', 2, 'MAX')  # Momento fletor máximo em Y\n",
    "mapdl.etable('Mz_MAX', 'SMISC', 3, 'MAX')  # Momento fletor máximo em Z\n",
    "\n",
    "# Carregar o primeiro Load Case novamente\n",
    "mapdl.lcase(1)\n",
    "\n",
    "# Comparar o Load Case 1 com os demais para valores mínimos\n",
    "for R in range(2, 4):\n",
    "    mapdl.lcoper('MIN', R)  # Compara o Load Case na memória para valores mínimos\n",
    "    mapdl.lcwrite(60 + R)   # Escreve o resultado em um arquivo\n",
    "\n",
    "# Carregar o resultado do último load case comparado\n",
    "mapdl.lcase(63)\n",
    "\n",
    "# Gerar ETABLE para momentos fletores e força axial (valores mínimos)\n",
    "mapdl.etable('Fx_MIN', 'SMISC', 1, 'MIN')  # Força Axial mínima\n",
    "mapdl.etable('My_MIN', 'SMISC', 2, 'MIN')  # Momento fletor mínimo em Y\n",
    "mapdl.etable('Mz_MIN', 'SMISC', 3, 'MIN')  # Momento fletor mínimo em Z\n",
    "mapdl.etable('Area', 'SMISC', 13)  # Área da seção transversal\n"
   ]
  },
  {
   "cell_type": "code",
   "execution_count": 48,
   "metadata": {},
   "outputs": [
    {
     "name": "stdout",
     "output_type": "stream",
     "text": [
      "    Element  Fx_MAX  Fx_MIN  My_MAX  My_MIN  Mz_MAX  Mz_MIN\n",
      "0         1  -729.0   361.0   943.0    -1.0     6.0  -943.0\n",
      "1        40 -1104.0   -14.0     0.0  -999.0   996.0    -3.0\n",
      "2        41  -348.0   356.0   957.0     0.0     5.0  -946.0\n",
      "3        80  -723.0   -19.0    -0.0 -1006.0   997.0    -3.0\n",
      "4        81    70.0   359.0   955.0    -0.0     0.0  -946.0\n",
      "5       120  -305.0   -16.0     0.0 -1005.0   997.0    -0.0\n",
      "6       121   361.0   641.0   940.0     1.0    -0.0  -943.0\n",
      "7       160   -14.0   265.0    -0.0  -998.0   996.0     0.0\n",
      "8       161  -751.0  -150.0   948.0     2.0     0.0  -963.0\n",
      "9       200 -1126.0  -525.0    -1.0 -1002.0  1006.0    -0.0\n",
      "10      201  -150.0   451.0   945.0    -2.0     0.0  -963.0\n",
      "11      240  -525.0    76.0     1.0 -1001.0  1006.0    -0.0\n",
      "12      241  -900.0  -620.0   943.0     4.0    -6.0  -949.0\n",
      "13      280 -1275.0  -996.0    -2.0  -999.0   999.0     3.0\n",
      "14      281  -637.0  -348.0   957.0     1.0    -5.0  -952.0\n",
      "15      320 -1012.0  -723.0    -1.0 -1006.0  1000.0     3.0\n",
      "16      321  -634.0    70.0   955.0    -1.0    -0.0  -952.0\n",
      "17      360 -1009.0  -305.0     1.0 -1005.0  1000.0     0.0\n",
      "18      361  -620.0   469.0   940.0    -4.0     0.0  -949.0\n",
      "19      400  -996.0    94.0     2.0  -998.0   999.0    -0.0\n"
     ]
    }
   ],
   "source": [
    "import pandas as pd\n",
    "\n",
    "elementos_sequencia = []\n",
    "j=1\n",
    "for i in range(0,10, 1):\n",
    "    y=num_intermediate_nodes*i + j\n",
    "    elementos_sequencia.append(y)\n",
    "    elementos_sequencia.append(y+num_intermediate_nodes)         # Adiciona o primeiro elemento do intervalo\n",
    "    j +=1\n",
    "\n",
    "# Dicionário para armazenar os resultados\n",
    "data = {\n",
    "    \"Element\": [],\n",
    "    \"Fx_MAX\": [],\n",
    "    \"Fx_MIN\": [],\n",
    "    \"My_MAX\": [],\n",
    "    \"My_MIN\": [],\n",
    "    \"Mz_MAX\": [],\n",
    "    \"Mz_MIN\": [],\n",
    "}\n",
    "\n",
    "# Extraindo valores com mapdl.get_value para cada elemento na sequência\n",
    "for elem in elementos_sequencia:\n",
    "    fx_max = -1*mapdl.get_value('ELEM', elem, 'ETABLE', 'Fx_MAX')/1000\n",
    "    fx_min = -1*mapdl.get_value('ELEM', elem, 'ETABLE', 'Fx_MIN')/1000\n",
    "    my_max = mapdl.get_value('ELEM', elem, 'ETABLE', 'My_MAX')/1000\n",
    "    my_min = mapdl.get_value('ELEM', elem, 'ETABLE', 'My_MIN')/1000\n",
    "    mz_max = mapdl.get_value('ELEM', elem, 'ETABLE', 'Mz_MAX')/1000\n",
    "    mz_min = mapdl.get_value('ELEM', elem, 'ETABLE', 'Mz_MIN')/1000\n",
    "\n",
    "    # Adicionando os resultados à tabela\n",
    "    data[\"Element\"].append(elem)\n",
    "    data[\"Fx_MAX\"].append(fx_max)\n",
    "    data[\"Fx_MIN\"].append(fx_min)\n",
    "    data[\"My_MAX\"].append(my_max)\n",
    "    data[\"My_MIN\"].append(my_min)\n",
    "    data[\"Mz_MAX\"].append(mz_max)\n",
    "    data[\"Mz_MIN\"].append(mz_min)\n",
    "# Criando o DataFrame com os resultados\n",
    "df = pd.DataFrame(data)\n",
    "df=df.round(0)\n",
    "# Exibindo a tabela\n",
    "print(df)\n",
    "\n",
    "# Opcional: Salvar a tabela como arquivo CSV\n",
    "#df.to_csv('element_results.csv', index=False)\n"
   ]
  },
  {
   "cell_type": "code",
   "execution_count": 35,
   "metadata": {},
   "outputs": [],
   "source": [
    "#Sair da port do mapdl e fechar o processo\n",
    "mapdl.exit()\n"
   ]
  }
 ],
 "metadata": {
  "kernelspec": {
   "display_name": "Python 3",
   "language": "python",
   "name": "python3"
  },
  "language_info": {
   "codemirror_mode": {
    "name": "ipython",
    "version": 3
   },
   "file_extension": ".py",
   "mimetype": "text/x-python",
   "name": "python",
   "nbconvert_exporter": "python",
   "pygments_lexer": "ipython3",
   "version": "3.9.13"
  }
 },
 "nbformat": 4,
 "nbformat_minor": 2
}
